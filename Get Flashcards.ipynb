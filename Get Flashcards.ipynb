{
 "cells": [
  {
   "cell_type": "code",
   "execution_count": 10,
   "metadata": {},
   "outputs": [],
   "source": [
    "import tweepy \n",
    "import wget\n",
    "import os"
   ]
  },
  {
   "cell_type": "code",
   "execution_count": 11,
   "metadata": {},
   "outputs": [],
   "source": [
    "auth = tweepy.OAuthHandler ('iFUDeTTZXm4WwJiakxbpXmaXe', 'zKWd08SqiOwBNuF4Nb3ATx87epAfvlwV3T7Y54wJsmFW5K0hr4') #Fill these in\n",
    "auth.set_access_token ('61035964-2Rwkz7qNnxSIiPApdxA3yh1CBi59kFZYIIXZcVjXc', 'br2igXQBe2CJJADESXhyr4n3GfvxqhX9haNEXIMJjKrAd')   #Fill these in\n",
    "\n",
    "api = tweepy.API(auth)\n",
    "\n",
    "#Get 200 of Chris' tweet\n",
    "tweets = api.user_timeline(screen_name = 'chrisalbon', \n",
    "                           count = 200, \n",
    "                           include_rts = False, \n",
    "                           excludereplies = True)\n",
    "\n",
    "#200 isn't enough.  Keep getting tweets until we can't get anymore\n",
    "\n",
    "last_id = tweets[-1].id\n",
    " \n",
    "while (True):\n",
    "    more_tweets = api.user_timeline(screen_name='chrisalbon',\n",
    "                                count=200,\n",
    "                                include_rts=False,\n",
    "                                exclude_replies=True,\n",
    "                                max_id=last_id-1)\n",
    "                                    \n",
    "    # There are no more tweets\n",
    "    if (len(more_tweets) == 0):\n",
    "          break\n",
    "    else:\n",
    "        last_id = more_tweets[-1].id-1\n",
    "        tweets += more_tweets"
   ]
  },
  {
   "cell_type": "code",
   "execution_count": 12,
   "metadata": {},
   "outputs": [],
   "source": [
    "#Chris stopped using a hashtag and started linking a URL\n",
    "def has_ML_url(s):\n",
    "    urls = s.entities.get('urls')\n",
    "    if urls:\n",
    "        return(urls[0].get('display_url') == 'machinelearningflashcards.com')\n",
    "    else:\n",
    "        return False"
   ]
  },
  {
   "cell_type": "code",
   "execution_count": 13,
   "metadata": {},
   "outputs": [],
   "source": [
    "#Filter by those containing machinelearningflashcards.com\n",
    "card_tweets = [tweet for tweet in tweets if has_ML_url(tweet)]"
   ]
  },
  {
   "cell_type": "code",
   "execution_count": 14,
   "metadata": {},
   "outputs": [],
   "source": [
    "media_files = dict()\n",
    "for status in card_tweets:\n",
    "    title = status.text.split(' http')[0]\n",
    "    media = status.entities.get('media', [])\n",
    "    if(len(media) > 0 and media[0]['type']=='photo' ):  #if tweet has media and media is photo\n",
    "        media_files[title] = media[0]['media_url']  #get me the url"
   ]
  },
  {
   "cell_type": "code",
   "execution_count": 15,
   "metadata": {},
   "outputs": [],
   "source": [
    "os.makedirs('ml-cards', exist_ok=True) #make a directory to store the photos in\n",
    "\n",
    "for title, url in media_files.items():\n",
    "   wget.download(url, out = \"ml-cards/{}.png\".format(title)) #get the photos!"
   ]
  },
  {
   "cell_type": "code",
   "execution_count": null,
   "metadata": {},
   "outputs": [],
   "source": []
  },
  {
   "cell_type": "code",
   "execution_count": null,
   "metadata": {},
   "outputs": [],
   "source": []
  }
 ],
 "metadata": {
  "kernelspec": {
   "display_name": "Python 3",
   "language": "python",
   "name": "python3"
  },
  "language_info": {
   "codemirror_mode": {
    "name": "ipython",
    "version": 3
   },
   "file_extension": ".py",
   "mimetype": "text/x-python",
   "name": "python",
   "nbconvert_exporter": "python",
   "pygments_lexer": "ipython3",
   "version": "3.6.5"
  }
 },
 "nbformat": 4,
 "nbformat_minor": 2
}
